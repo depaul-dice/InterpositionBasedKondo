{
 "cells": [
  {
   "cell_type": "code",
   "execution_count": 1,
   "metadata": {},
   "outputs": [],
   "source": [
    "import os\n",
    "import time"
   ]
  },
  {
   "cell_type": "code",
   "execution_count": 2,
   "metadata": {},
   "outputs": [],
   "source": [
    "results = {}"
   ]
  },
  {
   "cell_type": "code",
   "execution_count": 3,
   "metadata": {},
   "outputs": [],
   "source": [
    "def cleanSystem():\n",
    "    os.chdir(\"/home/rohan/Research/Kondo/Test\")\n",
    "    os.system(\"rm -rf tracelog\")\n",
    "    os.system(\"mkdir tracelog\")"
   ]
  },
  {
   "cell_type": "code",
   "execution_count": 4,
   "metadata": {},
   "outputs": [],
   "source": [
    "def runDataStore():\n",
    "    os.chdir(\"/home/rohan/Research/Kondo\")\n",
    "    start_time = time.time()\n",
    "    os.system(\"./createDataStore.sh /home/rohan/Research/Kondo/Test /home/rohan/Research/Kondo\")\n",
    "    return((time.time() - start_time))"
   ]
  },
  {
   "cell_type": "code",
   "execution_count": 5,
   "metadata": {},
   "outputs": [],
   "source": [
    "def Audit(cmd):\n",
    "    os.chdir(\"/home/rohan/Research/Kondo/Test\")\n",
    "    start_time = time.time()\n",
    "    os.system(\"LD_PRELOAD=../Log/libwrappers.so:../Log/libFileData.so {}\".format(cmd))\n",
    "    return((time.time() - start_time))"
   ]
  },
  {
   "cell_type": "code",
   "execution_count": 6,
   "metadata": {},
   "outputs": [],
   "source": [
    "def Replay(cmd):\n",
    "    os.chdir(\"/home/rohan/Research/Kondo/Test\")\n",
    "    start_time = time.time()\n",
    "    os.system(\"LD_PRELOAD=../ReExecute/libwrappers.so:../ReExecute/libReExec.so {}\".format(cmd))\n",
    "    return((time.time() - start_time))"
   ]
  },
  {
   "cell_type": "code",
   "execution_count": 7,
   "metadata": {},
   "outputs": [],
   "source": [
    "def Base(cmd):\n",
    "    os.chdir(\"/home/rohan/Research/Kondo/Test\")\n",
    "    start_time = time.time()\n",
    "    os.system(\"{}\".format(cmd))\n",
    "    return((time.time() - start_time))"
   ]
  },
  {
   "cell_type": "code",
   "execution_count": 8,
   "metadata": {},
   "outputs": [],
   "source": [
    "def get_size(start_path = '.'):\n",
    "    total_size = 0\n",
    "    for dirpath, dirnames, filenames in os.walk(start_path):\n",
    "        for f in filenames:\n",
    "            fp = os.path.join(dirpath, f)\n",
    "            # skip if it is symbolic link\n",
    "            if not os.path.islink(fp):\n",
    "                total_size += os.path.getsize(fp)\n",
    "\n",
    "    return total_size"
   ]
  },
  {
   "cell_type": "code",
   "execution_count": 9,
   "metadata": {},
   "outputs": [],
   "source": [
    "def countLines(path):\n",
    "    num = 0\n",
    "    with open(path, 'r') as fp:\n",
    "        for count, line in enumerate(fp):\n",
    "            num+=1\n",
    "    return num"
   ]
  },
  {
   "cell_type": "code",
   "execution_count": 13,
   "metadata": {},
   "outputs": [],
   "source": [
    "def runTest(inp, cmd, filePath):\n",
    "    baseTime = Base(cmd)\n",
    "    baseTime = Base(cmd)\n",
    "    cleanSystem()\n",
    "    auditTime = Audit(cmd)\n",
    "    dcreateTime = runDataStore()\n",
    "    replayTime = Replay(cmd)\n",
    "    results[inp] = {\n",
    "        \"base\":baseTime,\n",
    "        \"audit\":auditTime,\n",
    "        \"dscreate\":dcreateTime,\n",
    "        \"replay\":replayTime,\n",
    "        \"replaySize\":get_size(\"/home/rohan/Research/Kondo/Test/tracelog/\")\n",
    "    }\n",
    "   "
   ]
  },
  {
   "cell_type": "code",
   "execution_count": 14,
   "metadata": {},
   "outputs": [
    {
     "name": "stdout",
     "output_type": "stream",
     "text": [
      "In Left Diag Edges\n",
      "In Left Diag Edges\n",
      "In Left Diag Edges\n",
      "In Create pointers\n",
      "Time taken to process Size256x256x20000Chunk32x32.h5 is 14.541833292001684\n",
      "\n",
      "In Left Diag Edges\n",
      "20000 32x32 1 20 20\n",
      "20000 32x32 1 20 20:{'base': 3.2196362018585205, 'audit': 60.66553258895874, 'dscreate': 14.796565294265747, 'replay': 3.5910484790802, 'replaySize': 127304794}\n",
      "In Left Diag Edges\n",
      "In Left Diag Edges\n",
      "In Left Diag Edges\n",
      "In Create pointers\n",
      "Time taken to process Size256x256x20000Chunk32x32.h5 is 37.065570822000154\n",
      "\n",
      "In Left Diag Edges\n",
      "20000 32x32 1 50 50\n",
      "20000 32x32 1 50 50:{'base': 7.015212535858154, 'audit': 636.2251954078674, 'dscreate': 37.65949559211731, 'replay': 7.524888277053833, 'replaySize': 287880412}\n",
      "In Left Diag Edges\n",
      "In Left Diag Edges\n",
      "In Left Diag Edges\n",
      "In Create pointers\n",
      "Time taken to process Size256x256x5000Chunk32x32.h5 is 3.463903242001834\n",
      "\n",
      "In Left Diag Edges\n",
      "5000 32x32 1 20 20\n",
      "5000 32x32 1 20 20:{'base': 0.8107497692108154, 'audit': 3.336670398712158, 'dscreate': 3.5723085403442383, 'replay': 1.2858617305755615, 'replaySize': 31769578}\n",
      "In Left Diag Edges\n",
      "In Left Diag Edges\n",
      "In Left Diag Edges\n",
      "In Create pointers\n",
      "Time taken to process Size256x256x5000Chunk32x32.h5 is 8.491477147996193\n",
      "\n",
      "In Left Diag Edges\n",
      "5000 32x32 1 50 50\n",
      "5000 32x32 1 50 50:{'base': 1.759892225265503, 'audit': 21.017277717590332, 'dscreate': 8.688098430633545, 'replay': 2.2368810176849365, 'replaySize': 71820472}\n",
      "In Left Diag Edges\n",
      "In Left Diag Edges\n",
      "In Left Diag Edges\n",
      "In Create pointers\n",
      "Time taken to process Size256x256x1000Chunk32x32.h5 is 0.6951483609955176\n",
      "\n",
      "In Left Diag Edges\n",
      "1000 32x32 1 20 20\n",
      "1000 32x32 1 20 20:{'base': 0.175811767578125, 'audit': 0.2502450942993164, 'dscreate': 0.7677154541015625, 'replay': 0.214768648147583, 'replaySize': 6342748}\n",
      "In Left Diag Edges\n",
      "In Left Diag Edges\n",
      "In Left Diag Edges\n",
      "In Create pointers\n",
      "Time taken to process Size256x256x1000Chunk32x32.h5 is 1.6860487879966968\n",
      "\n",
      "In Left Diag Edges\n",
      "1000 32x32 1 50 50\n",
      "1000 32x32 1 50 50:{'base': 0.44623851776123047, 'audit': 0.8066048622131348, 'dscreate': 1.7633943557739258, 'replay': 0.3910672664642334, 'replaySize': 14324518}\n"
     ]
    }
   ],
   "source": [
    "dSetSize=[20000,5000, 1000]\n",
    "Chunks=[\"32x32\"]\n",
    "Pattern=[1]\n",
    "Input=[\"20 20\", \"50 50\"]\n",
    "results = {}\n",
    "for size in dSetSize:\n",
    "    for chunk in Chunks:\n",
    "        for pattern in Pattern:\n",
    "            for inp in Input:\n",
    "                a1 = \"{} {} {} {}\".format(size, chunk, pattern, inp)\n",
    "                a2 = (\"./benchmark /home/rohan/Research/Kondo/Test/Datasets/SynthData/Size256x256x{}Chunk{}.h5 {} {}\".format(size, chunk, pattern, inp))\n",
    "                a3 = \"/home/rohan/Research/Kondo/Test/Datasets/SynthData/Size256x256x{}Chunk{}.h5.trace\".format(size, chunk)\n",
    "                runTest(a1,a2, a3)\n",
    "                print(a1)\n",
    "                print(\"{}:{}\".format(a1, results[a1]))\n"
   ]
  },
  {
   "cell_type": "code",
   "execution_count": 15,
   "metadata": {},
   "outputs": [
    {
     "name": "stdout",
     "output_type": "stream",
     "text": [
      "20000 32x32 1 20 20:{'base': 3.2196362018585205, 'audit': 60.66553258895874, 'dscreate': 14.796565294265747, 'replay': 3.5910484790802, 'replaySize': 127304794}\n",
      "20000 32x32 1 50 50:{'base': 7.015212535858154, 'audit': 636.2251954078674, 'dscreate': 37.65949559211731, 'replay': 7.524888277053833, 'replaySize': 287880412}\n",
      "5000 32x32 1 20 20:{'base': 0.8107497692108154, 'audit': 3.336670398712158, 'dscreate': 3.5723085403442383, 'replay': 1.2858617305755615, 'replaySize': 31769578}\n",
      "5000 32x32 1 50 50:{'base': 1.759892225265503, 'audit': 21.017277717590332, 'dscreate': 8.688098430633545, 'replay': 2.2368810176849365, 'replaySize': 71820472}\n",
      "1000 32x32 1 20 20:{'base': 0.175811767578125, 'audit': 0.2502450942993164, 'dscreate': 0.7677154541015625, 'replay': 0.214768648147583, 'replaySize': 6342748}\n",
      "1000 32x32 1 50 50:{'base': 0.44623851776123047, 'audit': 0.8066048622131348, 'dscreate': 1.7633943557739258, 'replay': 0.3910672664642334, 'replaySize': 14324518}\n"
     ]
    }
   ],
   "source": [
    "for i in results:\n",
    "    print(\"{}:{}\".format(i, results[i]))"
   ]
  }
 ],
 "metadata": {
  "interpreter": {
   "hash": "31f2aee4e71d21fbe5cf8b01ff0e069b9275f58929596ceb00d14d90e3e16cd6"
  },
  "kernelspec": {
   "display_name": "Python 3.10.6 64-bit",
   "language": "python",
   "name": "python3"
  },
  "language_info": {
   "codemirror_mode": {
    "name": "ipython",
    "version": 3
   },
   "file_extension": ".py",
   "mimetype": "text/x-python",
   "name": "python",
   "nbconvert_exporter": "python",
   "pygments_lexer": "ipython3",
   "version": "3.10.6"
  },
  "orig_nbformat": 4
 },
 "nbformat": 4,
 "nbformat_minor": 2
}
